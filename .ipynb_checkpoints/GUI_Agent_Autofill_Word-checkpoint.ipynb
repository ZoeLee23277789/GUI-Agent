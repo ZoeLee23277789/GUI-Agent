{
 "cells": [
  {
   "cell_type": "code",
   "execution_count": 1,
   "id": "6542aafc-e0d8-4eec-9de8-17b8d85742f0",
   "metadata": {},
   "outputs": [],
   "source": [
    "import os\n",
    "from langchain.agents import Tool, initialize_agent\n",
    "from langchain.chat_models import ChatOpenAI\n",
    "from langchain.utilities.serpapi import SerpAPIWrapper\n",
    "from docx import Document\n",
    "from dotenv import load_dotenv\n",
    "import os\n",
    "# API 金鑰\n",
    "\n",
    "load_dotenv()  # 自動讀取 .env 檔\n",
    "\n",
    "openai_key = os.getenv(\"OPENAI_API_KEY\")\n",
    "serpapi_key = os.getenv(\"SERPAPI_API_KEY\")\n",
    "wolfram_key = os.getenv(\"WOLFRAM_ALPHA_APPID\")\n",
    "# 🧠 Google 搜尋工具\n",
    "search = SerpAPIWrapper()\n",
    "\n",
    "def search_and_summarize(query: str) -> str:\n",
    "    results = search.run(query)\n",
    "    return results  # LangChain SerpAPIWrapper 自帶簡要結果\n",
    "\n",
    "# 📝 寫入 Word 工具\n",
    "def write_to_word(content: str) -> str:\n",
    "    doc = Document()\n",
    "    doc.add_paragraph(content)\n",
    "    doc.save(\"output.docx\")\n",
    "    return \"✅ 已將內容儲存至 output.docx\"\n",
    "\n",
    "# 🔧 註冊 Tools\n",
    "tools = [\n",
    "    Tool(\n",
    "        name=\"SearchGoogle\",\n",
    "        func=search_and_summarize,\n",
    "        description=\"用來搜尋 Google 上的資訊，並給出摘要\"\n",
    "    ),\n",
    "    Tool(\n",
    "        name=\"WriteToWord\",\n",
    "        func=write_to_word,\n",
    "        description=\"把給定的文字內容寫入 Word 檔案\"\n",
    "    )\n",
    "]\n",
    "\n",
    "\n"
   ]
  },
  {
   "cell_type": "code",
   "execution_count": 2,
   "id": "5cdffa34-5ee5-4ec6-83b7-c899d2016a58",
   "metadata": {},
   "outputs": [
    {
     "name": "stderr",
     "output_type": "stream",
     "text": [
      "C:\\Users\\USER\\AppData\\Local\\Temp\\ipykernel_32088\\689595674.py:2: LangChainDeprecationWarning: The class `ChatOpenAI` was deprecated in LangChain 0.0.10 and will be removed in 1.0. An updated version of the class exists in the :class:`~langchain-openai package and should be used instead. To use it run `pip install -U :class:`~langchain-openai` and import as `from :class:`~langchain_openai import ChatOpenAI``.\n",
      "  llm = ChatOpenAI(temperature=0)\n",
      "C:\\Users\\USER\\AppData\\Local\\Temp\\ipykernel_32088\\689595674.py:3: LangChainDeprecationWarning: LangChain agents will continue to be supported, but it is recommended for new use cases to be built with LangGraph. LangGraph offers a more flexible and full-featured framework for building agents, including support for tool-calling, persistence of state, and human-in-the-loop workflows. For details, refer to the `LangGraph documentation <https://langchain-ai.github.io/langgraph/>`_ as well as guides for `Migrating from AgentExecutor <https://python.langchain.com/docs/how_to/migrate_agent/>`_ and LangGraph's `Pre-built ReAct agent <https://langchain-ai.github.io/langgraph/how-tos/create-react-agent/>`_.\n",
      "  agent = initialize_agent(tools, llm, agent=\"zero-shot-react-description\", verbose=True)\n",
      "C:\\Users\\USER\\AppData\\Local\\Temp\\ipykernel_32088\\689595674.py:7: LangChainDeprecationWarning: The method `Chain.run` was deprecated in langchain 0.1.0 and will be removed in 1.0. Use :meth:`~invoke` instead.\n",
      "  agent.run(command)\n"
     ]
    },
    {
     "name": "stdout",
     "output_type": "stream",
     "text": [
      "\n",
      "\n",
      "\u001b[1m> Entering new AgentExecutor chain...\u001b[0m\n",
      "\u001b[32;1m\u001b[1;3mI should first search for information about UCSC on Google and then write the summary to a Word document.\n",
      "Action: SearchGoogle\n",
      "Action Input: \"UCSC introduction\"\u001b[0m\n",
      "Observation: \u001b[36;1m\u001b[1;3m[' entity_type: related_questions.', \"A global research university, UC Santa Cruz is part of the world's most celebrated system of public higher education, and stands among the leading institutions ...\", 'Known for impactful research, teaching, and public service, UC Santa Cruz leads at the intersection of innovation, social justice, and sustainability.', 'Since its inception in 1965, the University of California, Santa Cruz, has been dedicated to excellence in undergraduate education, graduate studies, and ...', 'Established in 1965, the University of California, Santa Cruz, is dedicated to excellence in undergraduate education, graduate studies, and research. Named to ...', 'A Canvas Commons module for students to complete in Week 0 (or Week 1) of any academic-year quarter called the “UC Santa Cruz Introduction Module”.', 'UCSC is a world-class research and teaching university highlighting interdisciplinary learning and a distinctive residential college system.', \"I'm undeclared and I'm very undecided on what I want to enroll in for winter quarter. what are some intro courses you guys recommend?\", 'The University of California, Santa Cruz (UC Santa Cruz or UCSC) is a public land-grant research university in Santa Cruz, California.']\u001b[0m\n",
      "\u001b[32;1m\u001b[1;3mNow that I have the information about UCSC, I should write it to a Word document.\n",
      "Action: WriteToWord\n",
      "Action Input: \"A global research university, UC Santa Cruz is part of the world's most celebrated system of public higher education, and stands among the leading institutions ... Known for impactful research, teaching, and public service, UC Santa Cruz leads at the intersection of innovation, social justice, and sustainability. Since its inception in 1965, the University of California, Santa Cruz, has been dedicated to excellence in undergraduate education, graduate studies, and ... Established in 1965, the University of California, Santa Cruz, is dedicated to excellence in undergraduate education, graduate studies, and research. Named to ... A Canvas Commons module for students to complete in Week 0 (or Week 1) of any academic-year quarter called the “UC Santa Cruz Introduction Module”. UCSC is a world-class research and teaching university highlighting interdisciplinary learning and a distinctive residential college system. The University of California, Santa Cruz (UC Santa Cruz or UCSC) is a public land-grant research university in Santa Cruz, California.\"\u001b[0m\n",
      "Observation: \u001b[33;1m\u001b[1;3m✅ 已將內容儲存至 output.docx\u001b[0m\n",
      "\u001b[32;1m\u001b[1;3mI have successfully saved the information about UCSC to a Word document.\n",
      "Final Answer: The information about UCSC has been saved to a Word document.\u001b[0m\n",
      "\n",
      "\u001b[1m> Finished chain.\u001b[0m\n"
     ]
    },
    {
     "data": {
      "text/plain": [
       "'The information about UCSC has been saved to a Word document.'"
      ]
     },
     "execution_count": 2,
     "metadata": {},
     "output_type": "execute_result"
    }
   ],
   "source": [
    "# 🔗 初始化 LLM Agent\n",
    "llm = ChatOpenAI(temperature=0)\n",
    "agent = initialize_agent(tools, llm, agent=\"zero-shot-react-description\", verbose=True)\n",
    "\n",
    "# 🎯 測試範例\n",
    "command = \"請幫我搜尋 UCSC 的簡介，並將結果寫入 Word 檔案\"\n",
    "agent.run(command)"
   ]
  },
  {
   "cell_type": "code",
   "execution_count": null,
   "id": "1dd459d3-28f6-406f-8d6f-446e4cb8a2cf",
   "metadata": {},
   "outputs": [],
   "source": []
  }
 ],
 "metadata": {
  "kernelspec": {
   "display_name": "langchain_env",
   "language": "python",
   "name": "langchain_env"
  },
  "language_info": {
   "codemirror_mode": {
    "name": "ipython",
    "version": 3
   },
   "file_extension": ".py",
   "mimetype": "text/x-python",
   "name": "python",
   "nbconvert_exporter": "python",
   "pygments_lexer": "ipython3",
   "version": "3.11.11"
  }
 },
 "nbformat": 4,
 "nbformat_minor": 5
}
