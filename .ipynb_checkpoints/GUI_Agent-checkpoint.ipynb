{
 "cells": [
  {
   "cell_type": "code",
   "execution_count": 1,
   "id": "4a4a76be-5b44-4a83-b254-e85a482efb33",
   "metadata": {},
   "outputs": [],
   "source": [
    "import openai\n",
    "\n",
    "from dotenv import load_dotenv\n",
    "import os\n",
    "# API 金鑰\n",
    "\n",
    "load_dotenv()  # 自動讀取 .env 檔\n",
    "\n",
    "openai_key = os.getenv(\"OPENAI_API_KEY\")\n",
    "serpapi_key = os.getenv(\"SERPAPI_API_KEY\")\n",
    "wolfram_key = os.getenv(\"WOLFRAM_ALPHA_APPID\")\n",
    "\n",
    "def ask_llm_only_code(prompt):\n",
    "    full_prompt = f\"\"\"\n",
    "你是一個 Python GUI 助理，請將這句話轉換成 Python 函數呼叫。\n",
    "請只回傳一行有效的 Python 語法，**不要回傳說明文字**。\n",
    "使用者輸入：{prompt}\n",
    "\"\"\"\n",
    "    response = openai.ChatCompletion.create(\n",
    "        model=\"gpt-4\",\n",
    "        messages=[{\"role\": \"user\", \"content\": full_prompt}]\n",
    "    )\n",
    "    return response['choices'][0]['message']['content'].strip()\n"
   ]
  },
  {
   "cell_type": "code",
   "execution_count": 6,
   "id": "546bde9c-999b-4c66-befe-97970d6b8a57",
   "metadata": {},
   "outputs": [],
   "source": [
    "import pyautogui\n",
    "import time\n",
    "\n",
    "def google_search_like_user(query):\n",
    "    pyautogui.press('win')           # 按下 Windows 鍵\n",
    "    time.sleep(1)\n",
    "    pyautogui.write('chrome')        # 打開 Chrome\n",
    "    pyautogui.press('enter')\n",
    "    time.sleep(2)\n",
    "    pyautogui.write('https://www.google.com')\n",
    "    pyautogui.press('enter')\n",
    "    time.sleep(3)\n",
    "    pyautogui.write(query)           # 搜尋關鍵字\n",
    "    pyautogui.press('enter')\n"
   ]
  },
  {
   "cell_type": "code",
   "execution_count": 2,
   "id": "40a30438-7c07-4955-a393-a7ddde5126d4",
   "metadata": {},
   "outputs": [],
   "source": [
    "import pyautogui\n",
    "import time\n",
    "\n",
    "def open_notepad_and_type(text):\n",
    "    pyautogui.press('win')\n",
    "    time.sleep(1)\n",
    "    pyautogui.write('notepad')\n",
    "    pyautogui.press('enter')\n",
    "    time.sleep(1.5)\n",
    "    pyautogui.write(text)\n"
   ]
  },
  {
   "cell_type": "code",
   "execution_count": 8,
   "id": "f2fe44b5-7f08-425a-b6ae-c24444bd250c",
   "metadata": {},
   "outputs": [
    {
     "name": "stdin",
     "output_type": "stream",
     "text": [
      "請輸入指令： 幫我在google 上面搜索 Langchain\n"
     ]
    },
    {
     "name": "stdout",
     "output_type": "stream",
     "text": [
      "LLM 給出的動作：\n",
      "None\n"
     ]
    },
    {
     "ename": "TypeError",
     "evalue": "exec() arg 1 must be a string, bytes or code object",
     "output_type": "error",
     "traceback": [
      "\u001b[31m---------------------------------------------------------------------------\u001b[39m",
      "\u001b[31mTypeError\u001b[39m                                 Traceback (most recent call last)",
      "\u001b[36mCell\u001b[39m\u001b[36m \u001b[39m\u001b[32mIn[8]\u001b[39m\u001b[32m, line 9\u001b[39m\n\u001b[32m      6\u001b[39m \u001b[38;5;28mprint\u001b[39m(code)\n\u001b[32m      8\u001b[39m \u001b[38;5;66;03m# 在你信任的情況下使用 eval/exec\u001b[39;00m\n\u001b[32m----> \u001b[39m\u001b[32m9\u001b[39m \u001b[43mexec\u001b[49m\u001b[43m(\u001b[49m\u001b[43mcode\u001b[49m\u001b[43m)\u001b[49m\n",
      "\u001b[31mTypeError\u001b[39m: exec() arg 1 must be a string, bytes or code object"
     ]
    }
   ],
   "source": [
    "user_input = input(\"請輸入指令：\")  # 例如：「請打開記事本，並寫下 Hello, world」\n",
    "action_prompt = f\"請將以下自然語言轉成操作步驟（Python 函數調用），使用 open_notepad_and_type(text): {user_input}\"\n",
    "# code = ask_llm_only_code(action_prompt)\n",
    "code = google_search_like_user(action_prompt)\n",
    "print(\"LLM 給出的動作：\")\n",
    "print(code)\n",
    "https://www.google.com\n",
    "\n",
    "# 在你信任的情況下使用 eval/exec\n",
    "exec(code)\n"
   ]
  },
  {
   "cell_type": "code",
   "execution_count": null,
   "id": "8e4d810b-16a0-409c-a026-500ea4c75750",
   "metadata": {},
   "outputs": [],
   "source": []
  }
 ],
 "metadata": {
  "kernelspec": {
   "display_name": "langchain_env",
   "language": "python",
   "name": "langchain_env"
  },
  "language_info": {
   "codemirror_mode": {
    "name": "ipython",
    "version": 3
   },
   "file_extension": ".py",
   "mimetype": "text/x-python",
   "name": "python",
   "nbconvert_exporter": "python",
   "pygments_lexer": "ipython3",
   "version": "3.11.11"
  }
 },
 "nbformat": 4,
 "nbformat_minor": 5
}
